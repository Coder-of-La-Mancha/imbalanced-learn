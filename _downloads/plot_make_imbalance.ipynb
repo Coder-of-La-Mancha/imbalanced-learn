{
  "nbformat_minor": 0, 
  "nbformat": 4, 
  "cells": [
    {
      "execution_count": null, 
      "cell_type": "code", 
      "source": [
        "%matplotlib inline"
      ], 
      "outputs": [], 
      "metadata": {
        "collapsed": false
      }
    }, 
    {
      "source": [
        "\n# make_imbalance function\n\n\nAn illustration of the make_imbalance function\n\n\n"
      ], 
      "cell_type": "markdown", 
      "metadata": {}
    }, 
    {
      "execution_count": null, 
      "cell_type": "code", 
      "source": [
        "# Authors: Dayvid Oliveira\n#          Christos Aridas\n#          Guillaume Lemaitre <g.lemaitre58@gmail.com>\n# License: MIT\n\nimport matplotlib.pyplot as plt\nfrom sklearn.datasets import make_moons\n\nfrom imblearn.datasets import make_imbalance\n\nprint(__doc__)\n\n\ndef plot_decoration(ax):\n    ax.spines['top'].set_visible(False)\n    ax.spines['right'].set_visible(False)\n    ax.get_xaxis().tick_bottom()\n    ax.get_yaxis().tick_left()\n    ax.spines['left'].set_position(('outward', 10))\n    ax.spines['bottom'].set_position(('outward', 10))\n    ax.set_xlim([-4, 4])\n\n\n# Generate the dataset\nX, y = make_moons(n_samples=200, shuffle=True, noise=0.5, random_state=10)\n\n# Two subplots, unpack the axes array immediately\nf, axs = plt.subplots(2, 3)\n\naxs = [a for ax in axs for a in ax]\n\naxs[0].scatter(X[y == 0, 0], X[y == 0, 1], label=\"Class #0\", alpha=0.5)\naxs[0].scatter(X[y == 1, 0], X[y == 1, 1], label=\"Class #1\", alpha=0.5)\naxs[0].set_title('Original set')\nplot_decoration(axs[0])\n\nratios = [0.9, 0.75, 0.5, 0.25, 0.1]\nfor i, ratio in enumerate(ratios, start=1):\n    ax = axs[i]\n\n    X_, y_ = make_imbalance(X, y, ratio=ratio, min_c_=1)\n    ax.scatter(X_[y_ == 0, 0], X_[y_ == 0, 1], label=\"Class #0\", alpha=0.5)\n    ax.scatter(X_[y_ == 1, 0], X_[y_ == 1, 1], label=\"Class #1\", alpha=0.5)\n    ax.set_title('ratio = {}'.format(ratio))\n    plot_decoration(ax)\n\nplt.tight_layout()\nplt.show()"
      ], 
      "outputs": [], 
      "metadata": {
        "collapsed": false
      }
    }
  ], 
  "metadata": {
    "kernelspec": {
      "display_name": "Python 2", 
      "name": "python2", 
      "language": "python"
    }, 
    "language_info": {
      "mimetype": "text/x-python", 
      "nbconvert_exporter": "python", 
      "name": "python", 
      "file_extension": ".py", 
      "version": "2.7.6", 
      "pygments_lexer": "ipython2", 
      "codemirror_mode": {
        "version": 2, 
        "name": "ipython"
      }
    }
  }
}