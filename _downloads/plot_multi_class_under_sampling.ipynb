{
  "nbformat_minor": 0, 
  "nbformat": 4, 
  "cells": [
    {
      "execution_count": null, 
      "cell_type": "code", 
      "source": [
        "%matplotlib inline"
      ], 
      "outputs": [], 
      "metadata": {
        "collapsed": false
      }
    }, 
    {
      "source": [
        "\n# Multiclass classification with under-sampling\n\n\nSome balancing methods allow for balancing dataset with multiples classes.\nWe provide an example to illustrate the use of those methods which do\nnot differ from the binary case.\n\n\n"
      ], 
      "cell_type": "markdown", 
      "metadata": {}
    }, 
    {
      "execution_count": null, 
      "cell_type": "code", 
      "source": [
        "# Authors: Guillaume Lemaitre <g.lemaitre58@gmail.com>\n# License: MIT\n\nfrom sklearn.datasets import load_iris\nfrom sklearn.svm import LinearSVC\nfrom sklearn.model_selection import train_test_split\n\nfrom imblearn.under_sampling import NearMiss\nfrom imblearn.pipeline import make_pipeline\nfrom imblearn.metrics import classification_report_imbalanced\n\nprint(__doc__)\n\nRANDOM_STATE = 42\n\n# Create a folder to fetch the dataset\niris = load_iris()\n# Make the dataset imbalanced\n# Select only half of the first class\niris.data = iris.data[25:-1, :]\niris.target = iris.target[25:-1]\n\nX_train, X_test, y_train, y_test = train_test_split(iris.data, iris.target,\n                                                    random_state=RANDOM_STATE)\n\n# Create a pipeline\npipeline = make_pipeline(NearMiss(version=2, random_state=RANDOM_STATE),\n                         LinearSVC(random_state=RANDOM_STATE))\npipeline.fit(X_train, y_train)\n\n# Classify and report the results\nprint(classification_report_imbalanced(y_test, pipeline.predict(X_test)))"
      ], 
      "outputs": [], 
      "metadata": {
        "collapsed": false
      }
    }
  ], 
  "metadata": {
    "kernelspec": {
      "display_name": "Python 2", 
      "name": "python2", 
      "language": "python"
    }, 
    "language_info": {
      "mimetype": "text/x-python", 
      "nbconvert_exporter": "python", 
      "name": "python", 
      "file_extension": ".py", 
      "version": "2.7.6", 
      "pygments_lexer": "ipython2", 
      "codemirror_mode": {
        "version": 2, 
        "name": "ipython"
      }
    }
  }
}