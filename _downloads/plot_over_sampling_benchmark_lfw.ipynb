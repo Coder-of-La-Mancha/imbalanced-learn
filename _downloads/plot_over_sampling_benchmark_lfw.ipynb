{
  "nbformat_minor": 0, 
  "nbformat": 4, 
  "cells": [
    {
      "execution_count": null, 
      "cell_type": "code", 
      "source": [
        "%matplotlib inline"
      ], 
      "outputs": [], 
      "metadata": {
        "collapsed": false
      }
    }, 
    {
      "source": [
        "\n# Benchmark over-sampling methods in a face recognition task\n\n\nIn this face recognition example two faces are used from the LFW\n(Faces in the Wild) dataset. Several implemented over-sampling\nmethods are used in conjunction with a 3NN classifier in order\nto examine the improvement of the classifier's output quality\nby using an over-sampler.\n\n\n"
      ], 
      "cell_type": "markdown", 
      "metadata": {}
    }, 
    {
      "execution_count": null, 
      "cell_type": "code", 
      "source": [
        "import matplotlib.pyplot as plt\nimport numpy as np\nfrom scipy import interp\nfrom sklearn import datasets, neighbors\nfrom sklearn.metrics import auc, roc_curve\nfrom sklearn.model_selection import StratifiedKFold\n\nfrom imblearn.over_sampling import ADASYN, SMOTE, RandomOverSampler\nfrom imblearn.pipeline import make_pipeline\n\nprint(__doc__)\n\nLW = 2\nRANDOM_STATE = 42\n\n\nclass DummySampler(object):\n\n    def sample(self, X, y):\n        return X, y\n\n    def fit(self, X, y):\n        return self\n\n    def fit_sample(self, X, y):\n        return self.sample(X, y)\n\n\ncv = StratifiedKFold(n_splits=3)\n\n# Load the dataset\ndata = datasets.fetch_lfw_people()\nmajority_person = 1871  # 530 photos of George W Bush\nminority_person = 531  # 29 photos of Bill Clinton\nmajority_idxs = np.flatnonzero(data.target == majority_person)\nminority_idxs = np.flatnonzero(data.target == minority_person)\nidxs = np.hstack((majority_idxs, minority_idxs))\n\nX = data.data[idxs]\ny = data.target[idxs]\ny[y == majority_person] = 0\ny[y == minority_person] = 1\n\n\nclassifier = ['3NN', neighbors.KNeighborsClassifier(3)]\n\nsamplers = [\n    ['Standard', DummySampler()],\n    ['ADASYN', ADASYN(random_state=RANDOM_STATE)],\n    ['ROS', RandomOverSampler(random_state=RANDOM_STATE)],\n    ['SMOTE', SMOTE(random_state=RANDOM_STATE)],\n]\n\npipelines = [\n    ['{}-{}'.format(sampler[0], classifier[0]),\n     make_pipeline(sampler[1], classifier[1])]\n    for sampler in samplers\n]\n\n\nfor name, pipeline in pipelines:\n    mean_tpr = 0.0\n    mean_fpr = np.linspace(0, 1, 100)\n    for train, test in cv.split(X, y):\n        probas_ = pipeline.fit(X[train], y[train]).predict_proba(X[test])\n        fpr, tpr, thresholds = roc_curve(y[test], probas_[:, 1])\n        mean_tpr += interp(mean_fpr, fpr, tpr)\n        mean_tpr[0] = 0.0\n        roc_auc = auc(fpr, tpr)\n\n    mean_tpr /= cv.get_n_splits(X, y)\n    mean_tpr[-1] = 1.0\n    mean_auc = auc(mean_fpr, mean_tpr)\n    plt.plot(mean_fpr, mean_tpr, linestyle='--',\n             label='{} (area = %0.2f)'.format(name) % mean_auc, lw=LW)\n\n    plt.xlim([-0.05, 1.05])\n    plt.ylim([-0.05, 1.05])\n    plt.xlabel('False Positive Rate')\n    plt.ylabel('True Positive Rate')\n    plt.title('Receiver operating characteristic example')\n    plt.legend(loc=\"lower right\")\n\nplt.plot([0, 1], [0, 1], linestyle='--', lw=LW, color='k',\n         label='Luck')\n\nplt.show()"
      ], 
      "outputs": [], 
      "metadata": {
        "collapsed": false
      }
    }
  ], 
  "metadata": {
    "kernelspec": {
      "display_name": "Python 2", 
      "name": "python2", 
      "language": "python"
    }, 
    "language_info": {
      "mimetype": "text/x-python", 
      "nbconvert_exporter": "python", 
      "name": "python", 
      "file_extension": ".py", 
      "version": "2.7.6", 
      "pygments_lexer": "ipython2", 
      "codemirror_mode": {
        "version": 2, 
        "name": "ipython"
      }
    }
  }
}