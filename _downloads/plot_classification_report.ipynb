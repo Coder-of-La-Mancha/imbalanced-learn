{
  "nbformat_minor": 0, 
  "nbformat": 4, 
  "cells": [
    {
      "execution_count": null, 
      "cell_type": "code", 
      "source": [
        "%matplotlib inline"
      ], 
      "outputs": [], 
      "metadata": {
        "collapsed": false
      }
    }, 
    {
      "source": [
        "\n# Evaluate classification by compiling a report\n\n\nSpecific metrics have been developed to evaluate classifier which has been\ntrained using imbalanced data. `imblearn` provides a classification\nreport similar to `sklearn`, with additional metrics specific to imbalanced\nlearning problem.\n\n"
      ], 
      "cell_type": "markdown", 
      "metadata": {}
    }, 
    {
      "execution_count": null, 
      "cell_type": "code", 
      "source": [
        "# Authors: Guillaume Lemaitre <g.lemaitre58@gmail.com>\n# License: MIT\n\n\nfrom sklearn import datasets\nfrom sklearn.svm import LinearSVC\nfrom sklearn.model_selection import train_test_split\n\nfrom imblearn import over_sampling as os\nfrom imblearn import pipeline as pl\nfrom imblearn.metrics import classification_report_imbalanced\n\nprint(__doc__)\n\nRANDOM_STATE = 42\n\n# Generate a dataset\nX, y = datasets.make_classification(n_classes=2, class_sep=2,\n                                    weights=[0.1, 0.9], n_informative=10,\n                                    n_redundant=1, flip_y=0, n_features=20,\n                                    n_clusters_per_class=4, n_samples=5000,\n                                    random_state=RANDOM_STATE)\n\npipeline = pl.make_pipeline(os.SMOTE(random_state=RANDOM_STATE),\n                            LinearSVC(random_state=RANDOM_STATE))\n\n# Split the data\nX_train, X_test, y_train, y_test = train_test_split(X, y,\n                                                    random_state=RANDOM_STATE)\n\n# Train the classifier with balancing\npipeline.fit(X_train, y_train)\n\n# Test the classifier and get the prediction\ny_pred_bal = pipeline.predict(X_test)\n\n# Show the classification report\nprint(classification_report_imbalanced(y_test, y_pred_bal))"
      ], 
      "outputs": [], 
      "metadata": {
        "collapsed": false
      }
    }
  ], 
  "metadata": {
    "kernelspec": {
      "display_name": "Python 2", 
      "name": "python2", 
      "language": "python"
    }, 
    "language_info": {
      "mimetype": "text/x-python", 
      "nbconvert_exporter": "python", 
      "name": "python", 
      "file_extension": ".py", 
      "version": "2.7.6", 
      "pygments_lexer": "ipython2", 
      "codemirror_mode": {
        "version": 2, 
        "name": "ipython"
      }
    }
  }
}