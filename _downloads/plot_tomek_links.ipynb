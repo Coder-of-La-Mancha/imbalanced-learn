{
  "nbformat_minor": 0, 
  "nbformat": 4, 
  "cells": [
    {
      "execution_count": null, 
      "cell_type": "code", 
      "source": [
        "%matplotlib inline"
      ], 
      "outputs": [], 
      "metadata": {
        "collapsed": false
      }
    }, 
    {
      "source": [
        "\n# Tomek links\n\n\nAn illustration of the Tomek links method.\n\n\n"
      ], 
      "cell_type": "markdown", 
      "metadata": {}
    }, 
    {
      "execution_count": null, 
      "cell_type": "code", 
      "source": [
        "import numpy as np\nimport matplotlib.pyplot as plt\n\nfrom sklearn.datasets import make_blobs\n\nfrom imblearn.under_sampling import TomekLinks\n\nprint(__doc__)\n\n\n# create a synthetic dataset\nX, y = make_blobs(n_samples=500, centers=2, n_features=2,\n                  random_state=0, center_box=(-5.0, 5.0))\n\n# remove Tomek links\ntl = TomekLinks(return_indices=True)\nX_resampled, y_resampled, idx_resampled = tl.fit_sample(X, y)\n\nfig = plt.figure()\nax = fig.add_subplot(1, 1, 1)\n\nidx_class_0 = np.flatnonzero(y_resampled == 0)\nidx_class_1 = np.flatnonzero(y_resampled == 1)\nidx_samples_removed = np.setdiff1d(np.flatnonzero(y == 1),\n                                   np.union1d(idx_class_0, idx_class_1))\n\nplt.scatter(X[idx_class_0, 0], X[idx_class_0, 1],\n            c='g', alpha=.8, label='Class #0')\nplt.scatter(X[idx_class_1, 0], X[idx_class_1, 1],\n            c='b', alpha=.8, label='Class #1')\nplt.scatter(X[idx_samples_removed, 0], X[idx_samples_removed, 1],\n            c='r', alpha=.8, label='Removed samples')\n\nax.spines['top'].set_visible(False)\nax.spines['right'].set_visible(False)\nax.get_xaxis().tick_bottom()\nax.get_yaxis().tick_left()\nax.spines['left'].set_position(('outward', 10))\nax.spines['bottom'].set_position(('outward', 10))\n\nplt.title('Under-sampling removing Tomek links')\nplt.legend()\n\nplt.show()"
      ], 
      "outputs": [], 
      "metadata": {
        "collapsed": false
      }
    }
  ], 
  "metadata": {
    "kernelspec": {
      "display_name": "Python 2", 
      "name": "python2", 
      "language": "python"
    }, 
    "language_info": {
      "mimetype": "text/x-python", 
      "nbconvert_exporter": "python", 
      "name": "python", 
      "file_extension": ".py", 
      "version": "2.7.6", 
      "pygments_lexer": "ipython2", 
      "codemirror_mode": {
        "version": 2, 
        "name": "ipython"
      }
    }
  }
}